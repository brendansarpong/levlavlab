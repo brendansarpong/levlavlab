{
  "metadata": {
    "kernelspec": {
      "name": "python",
      "display_name": "Python (Pyodide)",
      "language": "python"
    },
    "language_info": {
      "codemirror_mode": {
        "name": "python",
        "version": 3
      },
      "file_extension": ".py",
      "mimetype": "text/x-python",
      "name": "python",
      "nbconvert_exporter": "python",
      "pygments_lexer": "ipython3",
      "version": "3.8"
    }
  },
  "nbformat_minor": 5,
  "nbformat": 4,
  "cells": [
    {
      "id": "9ae92ed6-8038-42d3-a4a6-c7e0248bbc06",
      "cell_type": "code",
      "source": "%matplotlib inline\n\nimport numpy as np\nimport xarray as xr\nimport cv2\nfrom skimage.morphology import medial_axis\nimport matplotlib.pyplot as plt\nfrom matplotlib import cm\nfrom ipywidgets import FileUpload\nfrom io import BytesIO\nfrom pathlib import Path\nfrom IPython.display import display \n# pip install ipywidgets\n\n# Display the upload widget\ndisplay(file_upload)\n\n",
      "metadata": {
        "trusted": true
      },
      "outputs": [],
      "execution_count": null
    },
    {
      "id": "9ec11538-d0dd-43c9-98a5-181e42b072bd",
      "cell_type": "code",
      "source": "# --- Masking Function ---\ndef create_mask(image, threshold=150):\n    gray = cv2.cvtColor(image, cv2.COLOR_BGR2GRAY)\n    _, mask = cv2.threshold(gray, threshold, 255, cv2.THRESH_BINARY)\n    return mask\n",
      "metadata": {
        "trusted": true
      },
      "outputs": [],
      "execution_count": null
    },
    {
      "id": "60611778-b0c0-466a-a23d-339213938a11",
      "cell_type": "code",
      "source": "def lava_width(PIV_masked, quantile=1.0, thresh=0.2, min_dist=2):\n    mask = PIV_masked.where(PIV_masked == 0).fillna(1)\n    PIV_masked['mask'] = mask\n\n    pixX = (PIV_masked.x[1] - PIV_masked.x[0]).values\n    pixY = (PIV_masked.y[1] - PIV_masked.y[0]).values\n\n    skel, distance = medial_axis(mask, return_distance=True)\n\n    dist_on_skeleton = distance * skel * 2 * pixX\n    PIV_masked['centerline'] = xr.DataArray(dist_on_skeleton, dims=['x', 'y'])\n\n    # Display Results\n    fig, ax = plt.subplots(figsize=(8, 8))\n    PIV_masked.plot(ax=ax, cmap='magma')\n    PIV_masked.mask.plot.contour(levels=1, yincrease=False, cmap='white', ax=ax)\n\n    print('Mean width:', round(np.mean(dist_on_skeleton[dist_on_skeleton > 0]), 1), 'm')\n    print('Max width:', round(np.max(dist_on_skeleton), 1), 'm')\n    print('Min width:', round(np.min(dist_on_skeleton[dist_on_skeleton > 0]), 1), 'm')\n",
      "metadata": {
        "trusted": true
      },
      "outputs": [],
      "execution_count": null
    },
    {
      "id": "f0e38964-54f7-4dff-9ca2-a861f8601eb8",
      "cell_type": "code",
      "source": "def process_video(video_path, threshold=150):\n    cap = cv2.VideoCapture(video_path)\n    \n    flow_data = []\n\n    while cap.isOpened():\n        ret, frame = cap.read()\n        if not ret:\n            break\n        \n        gray_frame = cv2.cvtColor(frame, cv2.COLOR_BGR2GRAY)\n        _, mask = cv2.threshold(gray_frame, threshold, 255, cv2.THRESH_BINARY)\n        \n        flow_data.append(mask.astype(float) / 255)\n        \n        cv2.imshow('Lava Flow Frame', mask)\n        if cv2.waitKey(30) & 0xFF == ord('q'):\n            break\n\n    cap.release()\n    cv2.destroyAllWindows()\n\n    avg_flow_data = np.mean(flow_data, axis=0)\n    \n    plt.figure(figsize=(8, 4))\n    plt.imshow(avg_flow_data, cmap=cm.magma, vmin=0, vmax=1)\n    plt.title(\"Lava Flow Visualization (Averaged Over Time)\")\n    plt.colorbar(label='Flow Intensity')\n    plt.show()\n",
      "metadata": {
        "trusted": true
      },
      "outputs": [],
      "execution_count": null
    },
    {
      "id": "f2a1eea0-a3da-4ba8-9f16-ea98f584b049",
      "cell_type": "code",
      "source": "file_upload = FileUpload(accept='.mp4', multiple=False)\nfile_upload\n\ndef handle_upload(change):\n    file_info = list(change['new'].values())[0]\n    file_path = Path(\"uploaded_video.mp4\")\n    with open(file_path, 'wb') as f:\n        f.write(file_info['content'])\n\n    print(f\"File saved as: {file_path}\")\n    process_video(str(file_path))  # Run analysis automatically\n\nfile_upload.observe(handle_upload, names='value')\n",
      "metadata": {
        "trusted": true
      },
      "outputs": [],
      "execution_count": null
    },
    {
      "id": "bbd495a3-4ba8-45b5-9941-0a16c484a7a7",
      "cell_type": "code",
      "source": "",
      "metadata": {
        "trusted": true
      },
      "outputs": [],
      "execution_count": null
    }
  ]
}